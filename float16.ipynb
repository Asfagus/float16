{
  "nbformat": 4,
  "nbformat_minor": 0,
  "metadata": {
    "colab": {
      "name": "float16",
      "provenance": [],
      "collapsed_sections": []
    },
    "kernelspec": {
      "name": "python3",
      "display_name": "Python 3"
    }
  },
  "cells": [
    {
      "cell_type": "code",
      "metadata": {
        "id": "lz_kVor63W9z",
        "colab_type": "code",
        "colab": {
          "base_uri": "https://localhost:8080/",
          "height": 52
        },
        "outputId": "432fe077-bbf3-4416-ff45-1ccd6f094101"
      },
      "source": [
        "#This script converts decimal to 16-bit or 32-bit floating point numbers\n",
        "import numpy as np\n",
        "import math\n",
        " \n",
        "def floattohex(x,input):\n",
        "  s=np.sign(input)\n",
        "  print (x)\n",
        "  np.finfo(x)\n",
        "  m=[]\n",
        "  e=[]\n",
        "  m,e=np.frexp(x)\n",
        "  m=m*2\n",
        "  e=e-1\n",
        "  #print (m*2,e-1)\n",
        "  #sign:1 is positive -1 is negative\n",
        "  #print (\"sign:\", s,\"exp:\", e,\"man:\", m)\n",
        "  #print (s,e,m)\n",
        "  if (s==1):\n",
        "    hex_sign=0\n",
        "  else:\n",
        "    hex_sign=1\n",
        " \n",
        "  #add bias \n",
        "  hex_exp=e+bias\n",
        "  hex_exp_bin=bin(hex_exp)\n",
        " \n",
        "  #compute man\n",
        "  if (m==0):\n",
        "    hex_m=0\n",
        "  else:\n",
        "    a=\"\"\n",
        "    m=m-1\n",
        "    while (m!=0 and len(a)!=man_width): \n",
        "      b=m*2\n",
        "      m,x=math.modf(b)\n",
        "      #print (b,m,x) #print seperated 1 and 0.45 from 1.45\n",
        "      a=a+(str(int(x)))\n",
        "    #extend remaining zeros\n",
        "    while (len(a)<man_width):\n",
        "      a=a+\"0\"\n",
        "    \n",
        "    bin_out=(str(hex_sign)+str(hex_exp_bin[2:])+a)\n",
        "    hex_out=hex(int(bin_out, 2))\n",
        "  return hex_out\n",
        " \n",
        " \n",
        "#man length is 23 for 32-bit, 10 for 16-bit\n",
        "#Change bias, float16 to float32, man_width\n",
        "input=0.1*0.27          \n",
        "bias=15            #127 for 32-bit, 15 for 16bit\n",
        "man_width=10        #10 for 16_bit 23 for 32_bit\n",
        "x=np.float16(input) #can be float16 or float32\n",
        " \n",
        "floattohex(x,input)"
      ],
      "execution_count": null,
      "outputs": [
        {
          "output_type": "stream",
          "text": [
            "0.027\n"
          ],
          "name": "stdout"
        },
        {
          "output_type": "execute_result",
          "data": {
            "application/vnd.google.colaboratory.intrinsic+json": {
              "type": "string"
            },
            "text/plain": [
              "'0x26e9'"
            ]
          },
          "metadata": {
            "tags": []
          },
          "execution_count": 86
        }
      ]
    }
  ]
}